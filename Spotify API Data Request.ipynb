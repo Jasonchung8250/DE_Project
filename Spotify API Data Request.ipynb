{
 "cells": [
  {
   "cell_type": "code",
   "execution_count": 9,
   "metadata": {},
   "outputs": [],
   "source": [
    "import requests\n",
    "import pandas\n",
    "import base64\n",
    "import datetime\n",
    "from datetime import timedelta"
   ]
  },
  {
   "cell_type": "code",
   "execution_count": 22,
   "metadata": {},
   "outputs": [],
   "source": [
    "class SpotifyAPI(object):\n",
    "    access_token = ''\n",
    "    access_token_expires = ''\n",
    "    client_id = ''\n",
    "    client_secret = ''\n",
    "    token_url = \"https://accounts.spotify.com/api/token\"\n",
    "    \n",
    "    def __init__(self, client_id, client_secret, *args, **kwargs):\n",
    "        super().__init__(*args, **kwargs)\n",
    "        self.client_id = client_id\n",
    "        self.client_secret = client_secret\n",
    "    \n",
    "    def get_token_header(self):\n",
    "        #returns a base64 string (not bytes)\n",
    "        if self.client_id == '' or self.client_secret == '':\n",
    "            raise Exception(\"client_id or client_secret has not been updated\")\n",
    "        client_creds = \"%s:%s\" % (self.client_id, self.client_secret)\n",
    "        client_creds_b64 = base64.b64encode(client_creds.encode())\n",
    "        return {\n",
    "        \"Authorization\" : f\"Basic {client_creds_b64.decode()}\"\n",
    "}\n",
    "    \n",
    "    \n",
    "    def get_token_data(self):\n",
    "        return {\n",
    "        \"grant_type\" : \"client_credentials\"\n",
    "        }\n",
    "    \n",
    "    def perform_auth(self):\n",
    "        token_data = self.get_token_data()\n",
    "        token_header = self.get_token_header()\n",
    "        token_url = self.token_url\n",
    "        \n",
    "        r = requests.post(token_url, data = token_data, headers = token_header)\n",
    "        valid_request = r.status_code in range(200,299) #This is to check if status_code is valid\n",
    "        if valid_request:\n",
    "            token_response_data = r.json() #r.json() returns a dictionary\n",
    "            now = datetime.datetime.now()\n",
    "            access_token = token_response_data['access_token']\n",
    "            expires_in = token_response_data['expires_in']\n",
    "            expires = now + timedelta(seconds=expires_in)\n",
    "            self.access_token_expires = expires\n",
    "            self.access_token = access_token\n",
    "            return \"Success\"\n",
    "        return \"Failed\""
   ]
  },
  {
   "cell_type": "code",
   "execution_count": 10,
   "metadata": {},
   "outputs": [
    {
     "name": "stdout",
     "output_type": "stream",
     "text": [
      "135ab778e09d46299134e28364c49f34:808207dc7a8148fc88deb1d550a3bf8d\n",
      "135ab778e09d46299134e28364c49f34:808207dc7a8148fc88deb1d550a3bf8d\n",
      "b'MTM1YWI3NzhlMDlkNDYyOTkxMzRlMjgzNjRjNDlmMzQ6ODA4MjA3ZGM3YTgxNDhmYzg4ZGViMWQ1NTBhM2JmOGQ='\n"
     ]
    }
   ],
   "source": [
    "client_id = '135ab778e09d46299134e28364c49f34'\n",
    "client_secret = '808207dc7a8148fc88deb1d550a3bf8d'\n",
    "\n",
    "client_creds = \"%s:%s\" % (client_id,client_secret)\n",
    "client_creds_test = f\"{client_id}:{client_secret}\"\n",
    "print(client_creds)\n",
    "print(client_creds_test)\n",
    "\n",
    "#To change this string to base64 encoded string\n",
    "client_creds_b64 = base64.b64encode(client_creds.encode())\n",
    "print(client_creds_b64)"
   ]
  },
  {
   "cell_type": "code",
   "execution_count": 30,
   "metadata": {},
   "outputs": [],
   "source": [
    "# do a lookup for a token, this token is for future requests\n",
    "token_url = \"https://accounts.spotify.com/api/token\"\n",
    "method = \"POST\"\n",
    "token_data = { \n",
    "        \"grant_type\" : \"client_credentials\"\n",
    "}\n",
    "token_headers = {\n",
    "        \"Authorization\" : f\"Basic {client_creds_b64.decode()}\"\n",
    "}"
   ]
  },
  {
   "cell_type": "code",
   "execution_count": 29,
   "metadata": {},
   "outputs": [],
   "source": [
    "spotify = SpotifyAPI(client_id, client_secret)\n",
    "#print(client.client_id)\n",
    "#print(client.client_secret)\n",
    "spotify.perform_auth()\n",
    "access_token = spotify.access_token"
   ]
  },
  {
   "cell_type": "code",
   "execution_count": 30,
   "metadata": {},
   "outputs": [],
   "source": [
    "#Use Access Token to access Spotify API\n",
    "header = {\n",
    "    \"Authorization\" : f\"Bearer {access_token}\"\n",
    "}\n",
    "endpoint = f\"https://api.spotify.com/v1/search?q=\"\n",
    "data = {\n",
    "    \"q\" : \"\" ,\n",
    "    \"type\" : \"track\"\n",
    "}"
   ]
  },
  {
   "cell_type": "code",
   "execution_count": 34,
   "metadata": {},
   "outputs": [
    {
     "name": "stdout",
     "output_type": "stream",
     "text": [
      "<!DOCTYPE html>\n",
      "<html lang=en>\n",
      "  <meta charset=utf-8>\n",
      "  <meta name=viewport content=\"initial-scale=1, minimum-scale=1, width=device-width\">\n",
      "  <title>Error 400 (Bad Request)!!1</title>\n",
      "  <style>\n",
      "    *{margin:0;padding:0}html,code{font:15px/22px arial,sans-serif}html{background:#fff;color:#222;padding:15px}body{margin:7% auto 0;max-width:390px;min-height:180px;padding:30px 0 15px}* > body{background:url(//www.google.com/images/errors/robot.png) 100% 5px no-repeat;padding-right:205px}p{margin:11px 0 22px;overflow:hidden}ins{color:#777;text-decoration:none}a img{border:0}@media screen and (max-width:772px){body{background:none;margin-top:0;max-width:none;padding-right:0}}#logo{background:url(//www.google.com/images/branding/googlelogo/1x/googlelogo_color_150x54dp.png) no-repeat;margin-left:-5px}@media only screen and (min-resolution:192dpi){#logo{background:url(//www.google.com/images/branding/googlelogo/2x/googlelogo_color_150x54dp.png) no-repeat 0% 0%/100% 100%;-moz-border-image:url(//www.google.com/images/branding/googlelogo/2x/googlelogo_color_150x54dp.png) 0}}@media only screen and (-webkit-min-device-pixel-ratio:2){#logo{background:url(//www.google.com/images/branding/googlelogo/2x/googlelogo_color_150x54dp.png) no-repeat;-webkit-background-size:100% 100%}}#logo{display:inline-block;height:54px;width:150px}\n",
      "  </style>\n",
      "  <a href=//www.google.com/><span id=logo aria-label=Google></span></a>\n",
      "  <p><b>400.</b> <ins>That’s an error.</ins>\n",
      "  <p>Your client has issued a malformed or illegal request.  <ins>That’s all we know.</ins>\n",
      "\n"
     ]
    }
   ],
   "source": [
    "r = requests.get(endpoint, data = data, headers = header)\n",
    "print(r.text)"
   ]
  },
  {
   "cell_type": "code",
   "execution_count": null,
   "metadata": {},
   "outputs": [],
   "source": []
  }
 ],
 "metadata": {
  "kernelspec": {
   "display_name": "Python 3",
   "language": "python",
   "name": "python3"
  },
  "language_info": {
   "codemirror_mode": {
    "name": "ipython",
    "version": 3
   },
   "file_extension": ".py",
   "mimetype": "text/x-python",
   "name": "python",
   "nbconvert_exporter": "python",
   "pygments_lexer": "ipython3",
   "version": "3.8.5"
  }
 },
 "nbformat": 4,
 "nbformat_minor": 4
}
