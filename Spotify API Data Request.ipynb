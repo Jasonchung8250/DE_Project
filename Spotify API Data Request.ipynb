{
 "cells": [
  {
   "cell_type": "code",
   "execution_count": 166,
   "metadata": {},
   "outputs": [],
   "source": [
    "import requests\n",
    "import pandas\n",
    "import base64\n",
    "from datetime import datetime,timedelta\n",
    "import mysql.connector\n",
    "from mysql.connector import Error\n",
    "from mysql.connector import errorcode\n",
    "import json"
   ]
  },
  {
   "cell_type": "code",
   "execution_count": 170,
   "metadata": {},
   "outputs": [],
   "source": [
    "#Connect to MySQL DB\n",
    "\n",
    "connection = mysql.connector.connect(host = \"localhost\", database = \"jason\", user = \"root\", password = \"q2_M4yEX\")"
   ]
  },
  {
   "cell_type": "code",
   "execution_count": 2,
   "metadata": {},
   "outputs": [],
   "source": [
    "class SpotifyAPI(object):\n",
    "    access_token = ''\n",
    "    access_token_expires = ''\n",
    "    client_id = ''\n",
    "    client_secret = ''\n",
    "    token_url = \"https://accounts.spotify.com/api/token\"\n",
    "    \n",
    "    def __init__(self, client_id, client_secret, *args, **kwargs):\n",
    "        super().__init__(*args, **kwargs)\n",
    "        self.client_id = client_id\n",
    "        self.client_secret = client_secret\n",
    "    \n",
    "    def get_token_header(self):\n",
    "        #returns a base64 string (not bytes)\n",
    "        if self.client_id == '' or self.client_secret == '':\n",
    "            raise Exception(\"client_id or client_secret has not been updated\")\n",
    "        client_creds = \"%s:%s\" % (self.client_id, self.client_secret)\n",
    "        client_creds_b64 = base64.b64encode(client_creds.encode())\n",
    "        return {\n",
    "        \"Authorization\" : f\"Basic {client_creds_b64.decode()}\"\n",
    "}\n",
    "    \n",
    "    \n",
    "    def get_token_data(self):\n",
    "        return {\n",
    "        \"grant_type\" : \"client_credentials\"\n",
    "        }\n",
    "    \n",
    "    def perform_auth(self):\n",
    "        token_data = self.get_token_data()\n",
    "        token_header = self.get_token_header()\n",
    "        token_url = self.token_url\n",
    "        \n",
    "        r = requests.post(token_url, data = token_data, headers = token_header)\n",
    "        valid_request = r.status_code in range(200,299) #This is to check if status_code is valid\n",
    "        if valid_request:\n",
    "            token_response_data = r.json() #r.json() returns a dictionary\n",
    "            now = datetime.now()\n",
    "            access_token = token_response_data['access_token']\n",
    "            expires_in = token_response_data['expires_in']\n",
    "            expires = now + timedelta(seconds=expires_in)\n",
    "            self.access_token_expires = expires\n",
    "            self.access_token = access_token\n",
    "            return \"Success\"\n",
    "        return \"Failed\""
   ]
  },
  {
   "cell_type": "code",
   "execution_count": 3,
   "metadata": {},
   "outputs": [
    {
     "name": "stdout",
     "output_type": "stream",
     "text": [
      "135ab778e09d46299134e28364c49f34:808207dc7a8148fc88deb1d550a3bf8d\n",
      "135ab778e09d46299134e28364c49f34:808207dc7a8148fc88deb1d550a3bf8d\n",
      "b'MTM1YWI3NzhlMDlkNDYyOTkxMzRlMjgzNjRjNDlmMzQ6ODA4MjA3ZGM3YTgxNDhmYzg4ZGViMWQ1NTBhM2JmOGQ='\n"
     ]
    }
   ],
   "source": [
    "client_id = '135ab778e09d46299134e28364c49f34'\n",
    "client_secret = '808207dc7a8148fc88deb1d550a3bf8d'\n",
    "\n",
    "client_creds = \"%s:%s\" % (client_id,client_secret)\n",
    "client_creds_test = f\"{client_id}:{client_secret}\"\n",
    "print(client_creds)\n",
    "print(client_creds_test)\n",
    "\n",
    "#To change this string to base64 encoded string\n",
    "client_creds_b64 = base64.b64encode(client_creds.encode())\n",
    "print(client_creds_b64)"
   ]
  },
  {
   "cell_type": "code",
   "execution_count": 4,
   "metadata": {},
   "outputs": [],
   "source": [
    "# do a lookup for a token, this token is for future requests\n",
    "token_url = \"https://accounts.spotify.com/api/token\"\n",
    "method = \"POST\"\n",
    "token_data = { \n",
    "        \"grant_type\" : \"client_credentials\"\n",
    "}\n",
    "token_headers = {\n",
    "        \"Authorization\" : f\"Basic {client_creds_b64.decode()}\"\n",
    "}"
   ]
  },
  {
   "cell_type": "code",
   "execution_count": 5,
   "metadata": {},
   "outputs": [
    {
     "name": "stdout",
     "output_type": "stream",
     "text": [
      "Success\n"
     ]
    }
   ],
   "source": [
    "spotify = SpotifyAPI(client_id, client_secret)\n",
    "\n",
    "print(spotify.perform_auth())\n",
    "access_token = spotify.access_token"
   ]
  },
  {
   "cell_type": "code",
   "execution_count": 22,
   "metadata": {},
   "outputs": [
    {
     "name": "stdout",
     "output_type": "stream",
     "text": [
      "BQCcz4Wo8QDjX8jPechFml7j5nvhyAuCl_83ZpFPF0DYsfQtBY-Nt9lvzt4MXdbMCqprx_swaWzAl0nYkFw\n",
      "2020-07-30 18:38:28.094189\n",
      "https://api.spotify.com/v1/search?q=bang%20dream&type=track&limit=50\n"
     ]
    }
   ],
   "source": [
    "#Use Access Token to access Spotify API\n",
    "print(access_token)\n",
    "print(spotify.access_token_expires)\n",
    "\n",
    "\n",
    "header = {\n",
    "    \"Authorization\" : f\"Bearer {access_token}\"\n",
    "}\n",
    "\n",
    "data = {\n",
    "    \"q\" : \"Bang Dream\" ,\n",
    "    \"type\" : \"track\" ,\n",
    "    \"limit\" : 50\n",
    "}\n",
    "\n",
    "#endpoint has to look like this \"https://api.spotify.com/v1/search?q=tania%20bowra&type=artist\"\n",
    "#encode spaces with \"%20\" or \"+\"\n",
    "endpoint = f\"https://api.spotify.com/v1/search?q={data['q'].replace(' ','%20').lower()}&type={data['type']}&limit={data['limit']}\"\n",
    "print(endpoint)"
   ]
  },
  {
   "cell_type": "code",
   "execution_count": 23,
   "metadata": {
    "scrolled": true
   },
   "outputs": [],
   "source": [
    "r = requests.get(endpoint, headers = header)"
   ]
  },
  {
   "cell_type": "code",
   "execution_count": 117,
   "metadata": {},
   "outputs": [
    {
     "name": "stdout",
     "output_type": "stream",
     "text": [
      "dict_keys(['href', 'items', 'limit', 'next', 'offset', 'previous', 'total'])\n",
      "50\n",
      "dict_keys(['album', 'artists', 'available_markets', 'disc_number', 'duration_ms', 'explicit', 'external_ids', 'external_urls', 'href', 'id', 'is_local', 'name', 'popularity', 'preview_url', 'track_number', 'type', 'uri'])\n"
     ]
    }
   ],
   "source": [
    "json = r.json()\n",
    "track_json = json['tracks']\n",
    "item_json = track_json['items']\n",
    "print(track_json.keys())\n",
    "print(len(track_json['items'])) #should be the same as track_json['limit']\n",
    "print(track_json['items'][0].keys())"
   ]
  },
  {
   "cell_type": "code",
   "execution_count": 122,
   "metadata": {},
   "outputs": [
    {
     "name": "stdout",
     "output_type": "stream",
     "text": [
      "50\n",
      "{'album_type': 'single', 'artists': [{'external_urls': {'spotify': 'https://open.spotify.com/artist/3Nrfpe0tUJi4K4DXYWgMUX'}, 'href': 'https://api.spotify.com/v1/artists/3Nrfpe0tUJi4K4DXYWgMUX', 'id': '3Nrfpe0tUJi4K4DXYWgMUX', 'name': 'BTS', 'type': 'artist', 'uri': 'spotify:artist:3Nrfpe0tUJi4K4DXYWgMUX'}, {'external_urls': {'spotify': 'https://open.spotify.com/artist/25uiPmTg16RbhZWAqwLBy5'}, 'href': 'https://api.spotify.com/v1/artists/25uiPmTg16RbhZWAqwLBy5', 'id': '25uiPmTg16RbhZWAqwLBy5', 'name': 'Charli XCX', 'type': 'artist', 'uri': 'spotify:artist:25uiPmTg16RbhZWAqwLBy5'}], 'available_markets': ['AD', 'AE', 'AL', 'AR', 'AT', 'AU', 'BA', 'BE', 'BG', 'BH', 'BO', 'BR', 'BY', 'CA', 'CH', 'CL', 'CO', 'CR', 'CY', 'CZ', 'DE', 'DK', 'DO', 'DZ', 'EC', 'EE', 'EG', 'ES', 'FI', 'FR', 'GB', 'GR', 'GT', 'HK', 'HN', 'HR', 'HU', 'ID', 'IE', 'IL', 'IN', 'IS', 'IT', 'JO', 'JP', 'KW', 'KZ', 'LB', 'LI', 'LT', 'LU', 'LV', 'MA', 'MC', 'MD', 'ME', 'MK', 'MT', 'MX', 'MY', 'NI', 'NL', 'NO', 'NZ', 'OM', 'PA', 'PE', 'PH', 'PL', 'PS', 'PT', 'PY', 'QA', 'RO', 'RS', 'RU', 'SA', 'SE', 'SG', 'SI', 'SK', 'SV', 'TH', 'TN', 'TR', 'TW', 'UA', 'US', 'UY', 'VN', 'XK', 'ZA'], 'external_urls': {'spotify': 'https://open.spotify.com/album/7fEUnTEsnJOXEZtUYMKyOE'}, 'href': 'https://api.spotify.com/v1/albums/7fEUnTEsnJOXEZtUYMKyOE', 'id': '7fEUnTEsnJOXEZtUYMKyOE', 'images': [{'height': 640, 'url': 'https://i.scdn.co/image/ab67616d0000b2731a4b23d64ef996b521ff298d', 'width': 640}, {'height': 300, 'url': 'https://i.scdn.co/image/ab67616d00001e021a4b23d64ef996b521ff298d', 'width': 300}, {'height': 64, 'url': 'https://i.scdn.co/image/ab67616d000048511a4b23d64ef996b521ff298d', 'width': 64}], 'name': 'Dream Glow (BTS World Original Soundtrack) [Pt. 1]', 'release_date': '2019-06-07', 'release_date_precision': 'day', 'total_tracks': 1, 'type': 'album', 'uri': 'spotify:album:7fEUnTEsnJOXEZtUYMKyOE'}\n"
     ]
    }
   ],
   "source": [
    "print(len(item_json))\n",
    "print(item_json[0]['album'])"
   ]
  },
  {
   "cell_type": "code",
   "execution_count": 163,
   "metadata": {},
   "outputs": [
    {
     "name": "stdout",
     "output_type": "stream",
     "text": [
      "<class 'str'>\n",
      "<class 'str'>\n",
      "<class 'str'>\n",
      "<class 'str'>\n",
      "<class 'str'>\n",
      "<class 'str'>\n",
      "<class 'str'>\n",
      "<class 'int'>\n",
      "<class 'bool'>\n",
      "<class 'int'>\n",
      "<class 'str'>\n"
     ]
    }
   ],
   "source": [
    "#print(item_json[0]['album'].keys())\n",
    "#print(item_json[0].keys())\n",
    "test = []\n",
    "\n",
    "for i in range(len(item_json)):\n",
    "    \n",
    "    artist_name = ''\n",
    "    for j in range(len(track_json['items'][i]['album']['artists'])):\n",
    "        artist_name = artist_name + ',' + track_json['items'][i]['album']['artists'][j]['name']\n",
    "    \n",
    "    #print(artist_name)\n",
    "\n",
    "    temp_tuple = (artist_name,\n",
    "                  item_json[i]['id'],\n",
    "                  item_json[i]['name'],\n",
    "                  #item_json[i]['available_markets'],\n",
    "                  item_json[i]['album']['id'],\n",
    "                  item_json[i]['album']['name'],\n",
    "                  item_json[i]['album']['album_type'],\n",
    "                  item_json[i]['album']['release_date'],\n",
    "                  item_json[i]['duration_ms'] , \n",
    "                  item_json[i]['explicit'],\n",
    "                  item_json[i]['track_number'],\n",
    "                  item_json[i]['type']\n",
    "                 )\n",
    "    \n",
    "    test.append(temp_tuple)"
   ]
  },
  {
   "cell_type": "code",
   "execution_count": 171,
   "metadata": {},
   "outputs": [
    {
     "name": "stdout",
     "output_type": "stream",
     "text": [
      "50 Record inserted successfully into spotify_tracks table\n",
      "MySQL connection is closed\n"
     ]
    }
   ],
   "source": [
    "#Insert data into MySQL \n",
    "\n",
    "insert_query = \"\"\"INSERT INTO spotify_tracks (artist_name, track_id, track_name, album_id, album_name, album_type, release_date, duration_ms, explicit, track_number, track_type)    \n",
    "                VALUES (%s,%s,%s,%s,%s,%s,%s,%s,%s,%s,%s)\n",
    "                \"\"\"\n",
    "insert_data = test\n",
    "\n",
    "try: \n",
    "    cursor = connection.cursor()\n",
    "    cursor.executemany(insert_query,insert_data)\n",
    "    connection.commit()\n",
    "    print(cursor.rowcount,\"Record inserted successfully into spotify_tracks table\")\n",
    "except mysql.connector.Error as error:\n",
    "    print(\"Failed to insert record into MySQL table {}\".format(error))\n",
    "\n",
    "finally:\n",
    "    if (connection.is_connected()):\n",
    "        cursor.close()\n",
    "        connection.close()\n",
    "        print(\"MySQL connection is closed\")"
   ]
  },
  {
   "cell_type": "code",
   "execution_count": null,
   "metadata": {},
   "outputs": [],
   "source": []
  }
 ],
 "metadata": {
  "kernelspec": {
   "display_name": "Python 3",
   "language": "python",
   "name": "python3"
  },
  "language_info": {
   "codemirror_mode": {
    "name": "ipython",
    "version": 3
   },
   "file_extension": ".py",
   "mimetype": "text/x-python",
   "name": "python",
   "nbconvert_exporter": "python",
   "pygments_lexer": "ipython3",
   "version": "3.8.5"
  }
 },
 "nbformat": 4,
 "nbformat_minor": 4
}
