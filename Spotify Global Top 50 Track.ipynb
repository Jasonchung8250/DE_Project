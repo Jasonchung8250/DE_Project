{
 "cells": [
  {
   "cell_type": "code",
   "execution_count": 69,
   "metadata": {},
   "outputs": [],
   "source": [
    "import requests\n",
    "import pandas\n",
    "import base64\n",
    "from datetime import date,datetime,timedelta\n",
    "import mysql.connector\n",
    "from mysql.connector import Error\n",
    "from mysql.connector import errorcode\n",
    "import json\n",
    "import configs\n",
    "from SpotifyAPI import SpotifyAPI"
   ]
  },
  {
   "cell_type": "code",
   "execution_count": 2,
   "metadata": {},
   "outputs": [],
   "source": [
    "#Connect to MySQL DB\n",
    "\n",
    "connection = mysql.connector.connect(host = \"localhost\", database = \"jason\", user = \"root\", password = configs.password)"
   ]
  },
  {
   "cell_type": "code",
   "execution_count": 3,
   "metadata": {},
   "outputs": [],
   "source": [
    "client_id = configs.client_id\n",
    "client_secret = configs.client_secret\n",
    "\n",
    "client_creds = f\"{client_id}:{client_secret}\"\n",
    "client_creds_b64 = base64.b64encode(client_creds.encode())  #To change this string to base64 encoded string"
   ]
  },
  {
   "cell_type": "code",
   "execution_count": 4,
   "metadata": {},
   "outputs": [],
   "source": [
    "# do a lookup for a token, this token is for future requests\n",
    "token_url = \"https://accounts.spotify.com/api/token\"\n",
    "method = \"POST\"\n",
    "token_data = { \n",
    "        \"grant_type\" : \"client_credentials\"\n",
    "}\n",
    "token_headers = {\n",
    "        \"Authorization\" : f\"Basic {client_creds_b64.decode()}\"\n",
    "}"
   ]
  },
  {
   "cell_type": "code",
   "execution_count": 5,
   "metadata": {},
   "outputs": [
    {
     "name": "stdout",
     "output_type": "stream",
     "text": [
      "Success\n"
     ]
    }
   ],
   "source": [
    "#Call object and perform authorization\n",
    "spotify = SpotifyAPI(client_id, client_secret)\n",
    "\n",
    "spotify.perform_auth()\n",
    "print(spotify.perform_auth())\n",
    "access_token = spotify.access_token"
   ]
  },
  {
   "cell_type": "code",
   "execution_count": 21,
   "metadata": {},
   "outputs": [
    {
     "name": "stdout",
     "output_type": "stream",
     "text": [
      "2020-08-03 16:33:56.519668\n",
      "https://api.spotify.com/v1/playlists/37i9dQZEVXbMDoHDwVN2tF\n"
     ]
    }
   ],
   "source": [
    "#Use Access Token to access Spotify API\n",
    "print(spotify.access_token_expires)\n",
    "\n",
    "\n",
    "header = {\n",
    "    \"Authorization\" : f\"Bearer {access_token}\"\n",
    "}\n",
    "\n",
    "\n",
    "#endpoint for tracks has to look like this \"https://api.spotify.com/v1/search?q=tania%20bowra&type=artist\"\n",
    "#encode spaces with \"%20\" or \"+\"\n",
    "#endpoint = f\"https://api.spotify.com/v1/search?q={data['q'].replace(' ','%20').lower()}&type={data['type']}&limit={data['limit']}\"\n",
    "\n",
    "endpoint = \"https://api.spotify.com/v1/playlists/37i9dQZEVXbMDoHDwVN2tF\"\n",
    "\n",
    "print(endpoint)"
   ]
  },
  {
   "cell_type": "code",
   "execution_count": 22,
   "metadata": {},
   "outputs": [
    {
     "name": "stdout",
     "output_type": "stream",
     "text": [
      "200\n"
     ]
    }
   ],
   "source": [
    "r = requests.get(endpoint, headers = header)\n",
    "print(r.status_code)"
   ]
  },
  {
   "cell_type": "code",
   "execution_count": 72,
   "metadata": {},
   "outputs": [
    {
     "name": "stdout",
     "output_type": "stream",
     "text": [
      "dict_keys(['album', 'artists', 'available_markets', 'disc_number', 'duration_ms', 'episode', 'explicit', 'external_ids', 'external_urls', 'href', 'id', 'is_local', 'name', 'popularity', 'preview_url', 'track', 'track_number', 'type', 'uri'])\n",
      "('Jawsh 685,Jason Derulo', '1xQ6trAsedVPCdbtDAmk0c', 'Savage Love (Laxed - Siren Beat)', 171374, True, 96, '1XMw3pBrYeXzNXZXc84DNw', 'Savage Love (Laxed - Siren Beat)', 'single', '2020-06-11', '2020-08-03')\n"
     ]
    }
   ],
   "source": [
    "data = r.json()\n",
    "playlist_json = data['tracks']\n",
    "#print(data['tracks'].keys())\n",
    "print(data['tracks']['items'][0]['track'].keys())\n",
    "\n",
    "playlist_data = []\n",
    "\n",
    "for i in range(playlist_json['total']):\n",
    "    \n",
    "\n",
    "    artist_name = ''\n",
    "    for j in range(len(playlist_json['items'][i]['track']['artists'])):\n",
    "        artist_name = artist_name + ',' + data['tracks']['items'][i]['track']['artists'][j]['name']\n",
    "    \n",
    "    track_tuple = (artist_name[1:],\n",
    "                   playlist_json['items'][i]['track']['id'],\n",
    "                   playlist_json['items'][i]['track']['name'],\n",
    "                   playlist_json['items'][i]['track']['duration_ms'],\n",
    "                   playlist_json['items'][i]['track']['explicit'],\n",
    "                   playlist_json['items'][i]['track']['popularity'],\n",
    "                   playlist_json['items'][i]['track']['album']['id'],\n",
    "                   playlist_json['items'][i]['track']['album']['name'],\n",
    "                   playlist_json['items'][i]['track']['album']['album_type'],\n",
    "                   playlist_json['items'][i]['track']['album']['release_date'],\n",
    "                   datetime.today().strftime('%Y-%m-%d')\n",
    "                    )\n",
    "    \n",
    "    \n",
    "    playlist_data.append(track_tuple)\n",
    "    \n",
    "#print(data['tracks']['items'][0]['track']['artists'][0])\n",
    "print(playlist_data[0])"
   ]
  },
  {
   "cell_type": "code",
   "execution_count": 73,
   "metadata": {},
   "outputs": [
    {
     "name": "stdout",
     "output_type": "stream",
     "text": [
      "50 Record inserted successfully into spotify_daily_top_50_global table\n",
      "MySQL connection is closed\n"
     ]
    }
   ],
   "source": [
    "#Insert data into MySQL \n",
    "\n",
    "insert_query = \"\"\"INSERT INTO spotify_daily_top_50_global (artist_name, track_id, track_name, duration_ms, explicit, popularity, album_id, album_name, album_type, release_date, dt)    \n",
    "                VALUES (%s,%s,%s,%s,%s,%s,%s,%s,%s,%s,%s)\n",
    "                \"\"\"\n",
    "insert_data = playlist_data\n",
    "\n",
    "try: \n",
    "    cursor = connection.cursor()\n",
    "    cursor.executemany(insert_query,insert_data)\n",
    "    connection.commit()\n",
    "    print(cursor.rowcount,\"Record inserted successfully into spotify_daily_top_50_global table\")\n",
    "except mysql.connector.Error as error:\n",
    "    print(\"Failed to insert record into MySQL table {}\".format(error))\n",
    "\n",
    "finally:\n",
    "    if (connection.is_connected()):\n",
    "        cursor.close()\n",
    "        connection.close()\n",
    "        print(\"MySQL connection is closed\")"
   ]
  },
  {
   "cell_type": "code",
   "execution_count": null,
   "metadata": {},
   "outputs": [],
   "source": []
  }
 ],
 "metadata": {
  "kernelspec": {
   "display_name": "Python 3",
   "language": "python",
   "name": "python3"
  },
  "language_info": {
   "codemirror_mode": {
    "name": "ipython",
    "version": 3
   },
   "file_extension": ".py",
   "mimetype": "text/x-python",
   "name": "python",
   "nbconvert_exporter": "python",
   "pygments_lexer": "ipython3",
   "version": "3.8.5"
  }
 },
 "nbformat": 4,
 "nbformat_minor": 4
}
